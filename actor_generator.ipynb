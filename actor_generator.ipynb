{
 "cells": [
  {
   "cell_type": "code",
   "execution_count": 1,
   "metadata": {},
   "outputs": [],
   "source": [
    "import pandas as pd\n",
    "import numpy as np\n",
    "from bs4 import BeautifulSoup\n",
    "import requests\n",
    "import pickle\n",
    "import re\n",
    "import seaborn as sns\n",
    "import matplotlib.pyplot as plt"
   ]
  },
  {
   "cell_type": "code",
   "execution_count": 106,
   "metadata": {},
   "outputs": [],
   "source": [
    "def get_actors(movie_address):\n",
    "    '''\n",
    "    This function takes in a film id and scrapes the actor id's of the cast\n",
    "    \n",
    "    Parameters:\n",
    "    movie_address (str): A film's unique IMDB id, formatted as '/title/tt0162662/' for example\n",
    "    \n",
    "    Returns:\n",
    "    None\n",
    "    '''\n",
    "    url = 'https://www.imdb.com' + movie_address\n",
    "    response = requests.get(url)\n",
    "    page = response.text\n",
    "    soup = BeautifulSoup(page)\n",
    "    actors_table = soup.find(id = 'titleCast').find(class_ = 'cast_list').find_all('a')\n",
    "    for idx, actor in enumerate(actors_table):\n",
    "        if idx % 2 != 0 or 'characters' in actor.get('href'): #if statement due to every id listed twice and also finctional character ids\n",
    "            continue\n",
    "        actor_ids.append(actor.get('href')) # actors_ids is instantiated outisde of function to make one, global list\n"
   ]
  },
  {
   "cell_type": "code",
   "execution_count": 143,
   "metadata": {},
   "outputs": [],
   "source": [
    "#url is to a list of 175 US made films released in 2000 sorted by date of release\n",
    "url = 'https://www.imdb.com/search/title/?title_type=feature&release_date=2000-01-01,2000-12-31&countries=us&languages=en&sort=year,asc&count=175'\n",
    "response = requests.get(url)\n",
    "page = response.text\n",
    "soup = BeautifulSoup(page)\n",
    "actor_ids = []\n",
    "film_pages = soup.find_all(class_ = 'lister-item mode-advanced')\n",
    "for film in film_pages:\n",
    "    try: #try is due to some films missing cast information, so that film is skipped\n",
    "        get_actors(film.find(class_ = 'lister-item-header').find('a').get('href'))\n",
    "    except:\n",
    "        continue\n"
   ]
  },
  {
   "cell_type": "code",
   "execution_count": 147,
   "metadata": {},
   "outputs": [],
   "source": [
    "new_actor_list = list(set(actor_ids)) #gets rid of duplicate actor ids"
   ]
  },
  {
   "cell_type": "code",
   "execution_count": 146,
   "metadata": {},
   "outputs": [],
   "source": [
    "pickle.dump(new_actor_list, open( \"US_actor_list2.p\", \"wb\" ) )"
   ]
  }
 ],
 "metadata": {
  "kernelspec": {
   "display_name": "Python 3",
   "language": "python",
   "name": "python3"
  },
  "language_info": {
   "codemirror_mode": {
    "name": "ipython",
    "version": 3
   },
   "file_extension": ".py",
   "mimetype": "text/x-python",
   "name": "python",
   "nbconvert_exporter": "python",
   "pygments_lexer": "ipython3",
   "version": "3.7.6"
  }
 },
 "nbformat": 4,
 "nbformat_minor": 4
}
